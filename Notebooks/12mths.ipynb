{
 "cells": [
  {
   "cell_type": "code",
   "execution_count": 1,
   "metadata": {},
   "outputs": [],
   "source": [
    "import numpy as np \n",
    "import pandas as pd\n",
    "import matplotlib.pyplot as plt\n",
    "import seaborn as sns"
   ]
  },
  {
   "cell_type": "code",
   "execution_count": 2,
   "metadata": {},
   "outputs": [
    {
     "name": "stdout",
     "output_type": "stream",
     "text": [
      "<class 'pandas.core.frame.DataFrame'>\n",
      "RangeIndex: 1071 entries, 0 to 1070\n",
      "Columns: 263 entries, patid to minidiag5\n",
      "dtypes: datetime64[ns](6), float32(4), float64(246), object(7)\n",
      "memory usage: 2.1+ MB\n",
      "None\n"
     ]
    }
   ],
   "source": [
    "df_hiv12 = pd.read_stata(\"../Data/DataAll/12months.dta\")\n",
    "\n",
    "print(df_hiv12.info(verbose=False))"
   ]
  },
  {
   "cell_type": "code",
   "execution_count": 3,
   "metadata": {},
   "outputs": [],
   "source": [
    "df_hiv12['heightst4'] /= 100  # Convert height to meters\n",
    "\n",
    "# Calculate BMI and round to the nearest whole number\n",
    "df_hiv12 = pd.concat([df_hiv12, (df_hiv12['weightst4'] / (df_hiv12['heightst4'] ** 2)).round().rename('BMI')], axis=1)"
   ]
  },
  {
   "cell_type": "code",
   "execution_count": 4,
   "metadata": {},
   "outputs": [
    {
     "name": "stderr",
     "output_type": "stream",
     "text": [
      "C:\\Users\\Mutema\\AppData\\Local\\Temp\\ipykernel_29320\\458901957.py:5: PerformanceWarning: DataFrame is highly fragmented.  This is usually the result of calling `frame.insert` many times, which has poor performance.  Consider joining all columns at once using pd.concat(axis=1) instead. To get a de-fragmented frame, use `newframe = frame.copy()`\n",
      "  df_hiv12['Psyc_index'] = df_hiv12[columns_to_convert].sum(axis=1, skipna=True)\n"
     ]
    }
   ],
   "source": [
    "columns_to_convert = ['disrupt4', 'healthvisits4', 'hospdays4']\n",
    "\n",
    "df_hiv12[columns_to_convert] = df_hiv12[columns_to_convert].apply(lambda x: (x > 0).astype(int))\n",
    "\n",
    "df_hiv12['Psyc_index'] = df_hiv12[columns_to_convert].sum(axis=1, skipna=True)"
   ]
  },
  {
   "cell_type": "code",
   "execution_count": 5,
   "metadata": {},
   "outputs": [
    {
     "name": "stdout",
     "output_type": "stream",
     "text": [
      "0    Moderate\n",
      "1    Moderate\n",
      "2         Low\n",
      "3    Moderate\n",
      "4         Low\n",
      "Name: SS_cat, dtype: category\n",
      "Categories (4, object): ['NA' < 'Low' < 'Moderate' < 'High']\n"
     ]
    },
    {
     "name": "stderr",
     "output_type": "stream",
     "text": [
      "C:\\Users\\Mutema\\AppData\\Local\\Temp\\ipykernel_29320\\4286021261.py:4: PerformanceWarning: DataFrame is highly fragmented.  This is usually the result of calling `frame.insert` many times, which has poor performance.  Consider joining all columns at once using pd.concat(axis=1) instead. To get a de-fragmented frame, use `newframe = frame.copy()`\n",
      "  df_hiv12['SS_score'] = pd.concat([df_hiv12[col] for col in Soc_col], axis=1).sum(axis=1) / len(Soc_col)\n",
      "C:\\Users\\Mutema\\AppData\\Local\\Temp\\ipykernel_29320\\4286021261.py:8: PerformanceWarning: DataFrame is highly fragmented.  This is usually the result of calling `frame.insert` many times, which has poor performance.  Consider joining all columns at once using pd.concat(axis=1) instead. To get a de-fragmented frame, use `newframe = frame.copy()`\n",
      "  df_hiv12['SS_cat'] = pd.cut(df_hiv12['SS_score'], bins=[-float('inf'), 1, 3, 5.1, float('inf')],\n"
     ]
    }
   ],
   "source": [
    "Soc_col = ['socneed4', 'socjoy4', 'socreal4', 'socemot4', 'soccomfo4', 'socfriend4',\n",
    "           'socthing4', 'socprob4', 'socshare4', 'soclife4', 'socwill4', 'soctalk4']\n",
    "\n",
    "df_hiv12['SS_score'] = pd.concat([df_hiv12[col] for col in Soc_col], axis=1).sum(axis=1) / len(Soc_col)\n",
    "\n",
    "#print(df_hiv2['SS_score'].head())\n",
    "# Create categorical column (SScat)\n",
    "df_hiv12['SS_cat'] = pd.cut(df_hiv12['SS_score'], bins=[-float('inf'), 1, 3, 5.1, float('inf')],\n",
    "                          labels=['NA', 'Low', 'Moderate', 'High'], include_lowest=True)\n",
    "#Display the SS_cat\n",
    "print(df_hiv12['SS_cat'].head())"
   ]
  },
  {
   "cell_type": "code",
   "execution_count": 7,
   "metadata": {},
   "outputs": [
    {
     "name": "stdout",
     "output_type": "stream",
     "text": [
      "0     2\n",
      "1    10\n",
      "2     7\n",
      "3     0\n",
      "4     0\n",
      "Name: SSI, dtype: int32\n"
     ]
    }
   ],
   "source": [
    "# Create list_a and list_b as subsets of df_hiv\n",
    "list_a_columns = ['patid', 'father4', 'mother4', 'parentill4', 'parmisunder4', 'parneglect4', 'brother4',\n",
    "                  'sister4', 'siblingill4', 'siblingmis4', 'siblingneg4', 'spouse4', 'lover4',\n",
    "                  'spoloverill4', 'spolovmis4', 'spolovneg4', 'child4', 'childill4', 'childmis4',\n",
    "                  'childcare4', 'ill4', 'anymis4', 'feelneg4', 'famprov4', 'jobloss4', 'discrim4',\n",
    "                  'cope4', 'moneywor4']\n",
    "list_b_columns = ['patid', 'fathst4', 'mothst4', 'parst4', 'parmisst4', 'parnegst4', 'brost4',\n",
    "                  'sisst4', 'siblingst4', 'sibmisst4', 'sibnegst4', 'spousest4', 'loverst4',\n",
    "                  'spolovillst4', 'spolovmisst4', 'spolovnegst4', 'childst4', 'childillst4',\n",
    "                  'childmisst4', 'childcarest4', 'illst4', 'anymisrest4', 'feelnegst4', 'famprovst4',\n",
    "                  'joblossst2', 'discrimst4', 'copest4', 'moneyworst4']\n",
    "\n",
    "list_a = df_hiv12[list_a_columns].copy()\n",
    "list_b = df_hiv12[list_b_columns].copy()\n",
    "\n",
    "# Merge the two dataframes by 'patid'\n",
    "df_ssi = pd.merge(list_a, list_b, on='patid', how='inner')\n",
    "# Select columns to sum across efficiently\n",
    "columns_to_sum = [col for col in df_ssi.columns if not col.endswith(\"st\")]\n",
    "\n",
    "# Count the number of 1s in each row for selected columns\n",
    "row_sums = np.sum((df_ssi[columns_to_sum] == 1).values, axis=1)\n",
    "\n",
    "# Add the result as a new column \"SSI\" to df_hiv using pd.concat\n",
    "df_hiv12 = pd.concat([df_hiv12, pd.Series(row_sums, name='SSI')], axis=1)\n",
    "\n",
    "# Display the resulting DataFrame\n",
    "print(df_hiv12['SSI'].head())"
   ]
  },
  {
   "cell_type": "code",
   "execution_count": null,
   "metadata": {},
   "outputs": [],
   "source": [
    "df_hiv12['SDS'] = df_hiv12[['dayslost', 'daysunproductive']].sum(axis=1, skipna=True)\n",
    "\n",
    "df_hiv12['SDS_cat'] = pd.cut(df_hiv12['SDS'],\n",
    "                               bins=[-float('inf'), 0, 6, 12, float('inf')],\n",
    "                               labels=['None', 'Low', 'Moderate', 'High'],\n",
    "                               include_lowest=True)"
   ]
  },
  {
   "cell_type": "code",
   "execution_count": 4,
   "metadata": {},
   "outputs": [
    {
     "name": "stdout",
     "output_type": "stream",
     "text": [
      "Collecting mcaNote: you may need to restart the kernel to use updated packages.\n",
      "\n",
      "  Downloading mca-1.0.3.tar.gz (17 kB)\n",
      "  Installing build dependencies: started\n",
      "  Installing build dependencies: finished with status 'done'\n",
      "  Getting requirements to build wheel: started\n",
      "  Getting requirements to build wheel: finished with status 'done'\n",
      "  Preparing metadata (pyproject.toml): started\n",
      "  Preparing metadata (pyproject.toml): finished with status 'done'\n",
      "Requirement already satisfied: scipy in c:\\users\\mutema\\appdata\\local\\packages\\pythonsoftwarefoundation.python.3.11_qbz5n2kfra8p0\\localcache\\local-packages\\python311\\site-packages (from mca) (1.11.3)\n",
      "Requirement already satisfied: numpy in c:\\users\\mutema\\appdata\\local\\packages\\pythonsoftwarefoundation.python.3.11_qbz5n2kfra8p0\\localcache\\local-packages\\python311\\site-packages (from mca) (1.25.1)\n",
      "Requirement already satisfied: pandas in c:\\users\\mutema\\appdata\\local\\packages\\pythonsoftwarefoundation.python.3.11_qbz5n2kfra8p0\\localcache\\local-packages\\python311\\site-packages (from mca) (2.0.3)\n",
      "Requirement already satisfied: python-dateutil>=2.8.2 in c:\\users\\mutema\\appdata\\local\\packages\\pythonsoftwarefoundation.python.3.11_qbz5n2kfra8p0\\localcache\\local-packages\\python311\\site-packages (from pandas->mca) (2.8.2)\n",
      "Requirement already satisfied: pytz>=2020.1 in c:\\users\\mutema\\appdata\\local\\packages\\pythonsoftwarefoundation.python.3.11_qbz5n2kfra8p0\\localcache\\local-packages\\python311\\site-packages (from pandas->mca) (2023.3)\n",
      "Requirement already satisfied: tzdata>=2022.1 in c:\\users\\mutema\\appdata\\local\\packages\\pythonsoftwarefoundation.python.3.11_qbz5n2kfra8p0\\localcache\\local-packages\\python311\\site-packages (from pandas->mca) (2023.3)\n",
      "Requirement already satisfied: six>=1.5 in c:\\users\\mutema\\appdata\\local\\packages\\pythonsoftwarefoundation.python.3.11_qbz5n2kfra8p0\\localcache\\local-packages\\python311\\site-packages (from python-dateutil>=2.8.2->pandas->mca) (1.16.0)\n",
      "Building wheels for collected packages: mca\n",
      "  Building wheel for mca (pyproject.toml): started\n",
      "  Building wheel for mca (pyproject.toml): finished with status 'done'\n",
      "  Created wheel for mca: filename=mca-1.0.3-py2.py3-none-any.whl size=6038 sha256=6a57482c774fc575d32b6c9b476c8615263accbeab7a2981991114eddfe5d58f\n",
      "  Stored in directory: c:\\users\\mutema\\appdata\\local\\pip\\cache\\wheels\\98\\34\\01\\a42e47f7ccc0a4f4283780349f8d347391bd0d8e0d83198b5d\n",
      "Successfully built mca\n",
      "Installing collected packages: mca\n",
      "Successfully installed mca-1.0.3\n"
     ]
    },
    {
     "name": "stderr",
     "output_type": "stream",
     "text": [
      "\n",
      "[notice] A new release of pip is available: 23.2.1 -> 23.3.2\n",
      "[notice] To update, run: C:\\Users\\Mutema\\AppData\\Local\\Microsoft\\WindowsApps\\PythonSoftwareFoundation.Python.3.11_qbz5n2kfra8p0\\python.exe -m pip install --upgrade pip\n"
     ]
    }
   ],
   "source": [
    "pip install mca"
   ]
  }
 ],
 "metadata": {
  "kernelspec": {
   "display_name": "Python 3",
   "language": "python",
   "name": "python3"
  },
  "language_info": {
   "codemirror_mode": {
    "name": "ipython",
    "version": 3
   },
   "file_extension": ".py",
   "mimetype": "text/x-python",
   "name": "python",
   "nbconvert_exporter": "python",
   "pygments_lexer": "ipython3",
   "version": "3.11.8"
  }
 },
 "nbformat": 4,
 "nbformat_minor": 2
}
